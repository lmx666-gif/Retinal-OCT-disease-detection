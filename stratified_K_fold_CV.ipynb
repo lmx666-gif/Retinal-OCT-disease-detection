{
 "cells": [
  {
   "cell_type": "markdown",
   "metadata": {
    "id": "NqsdF0XQos_l"
   },
   "source": [
    "# Add all necessary libraries!"
   ]
  },
  {
   "cell_type": "code",
   "execution_count": 4,
   "metadata": {
    "collapsed": true,
    "id": "JgKtTVe4ooDl"
   },
   "outputs": [],
   "source": [
    "import os\n",
    "import numpy as np\n",
    "import pandas as pd \n",
    "import random\n",
    "import cv2\n",
    "from sklearn.metrics import accuracy_score, f1_score, precision_score, confusion_matrix\n",
    "from sklearn.model_selection import StratifiedKFold\n",
    "from PIL import Image\n",
    "\n",
    "import tensorflow as tf\n",
    "from tensorflow import keras\n",
    "from tensorflow.keras import layers\n",
    "from tensorflow.keras.layers import MaxPooling2D\n",
    "from tensorflow.compat.v1 import ConfigProto\n",
    "from tensorflow.compat.v1 import InteractiveSession\n",
    "import tensorflow.keras.backend as K\n",
    "from tensorflow.keras.models import Model, Sequential\n",
    "from tensorflow.keras.layers import Input, Dense, Flatten, Dropout, BatchNormalization\n",
    "from tensorflow.keras.layers import Conv2D, SeparableConv2D, MaxPool2D, LeakyReLU, Activation\n",
    "from tensorflow.keras.optimizers import Adam\n",
    "from tensorflow.keras.preprocessing.image import ImageDataGenerator\n",
    "from tensorflow.keras.callbacks import ModelCheckpoint, ReduceLROnPlateau, EarlyStopping\n",
    "from tensorflow.keras.utils import plot_model\n",
    "\n",
    "from os import listdir\n",
    "from os.path import isfile, join\n",
    "from PIL import Image\n",
    "import glob\n",
    "import warnings\n",
    "import shutil\n",
    "from PIL import ImageFile\n",
    "warnings.simplefilter('error', Image.DecompressionBombWarning)\n",
    "ImageFile.LOAD_TRUNCATED_IMAGES = True"
   ]
  },
  {
   "cell_type": "code",
   "execution_count": 7,
   "metadata": {
    "collapsed": true,
    "id": "wnJCDGu4o5r-"
   },
   "outputs": [],
   "source": [
    "datasetFolderName=r'D:/FinalProject/DS'\n",
    "MODEL_FILENAME=r'D:/FinalProject/model_cv.h5'\n",
    "sourceFiles=[]\n",
    "classLabels=['CNV', 'DME', 'DRUSEN','NORMAL']\n",
    "X=[]\n",
    "Y=[]\n",
    "\n",
    "img_rows, img_cols =  160, 160 # input image dimensions\n",
    "train_path=datasetFolderName+'/train/'\n",
    "validation_path=datasetFolderName+'/validation/'\n",
    "test_path=datasetFolderName+'/test/'"
   ]
  },
  {
   "cell_type": "code",
   "execution_count": 8,
   "metadata": {
    "collapsed": true,
    "id": "Vk22FJ2lo980"
   },
   "outputs": [],
   "source": [
    "def transferBetweenFolders(source, dest, splitRate): \n",
    "    global sourceFiles\n",
    "    sourceFiles=os.listdir(source)\n",
    "    if(len(sourceFiles)!=0):\n",
    "        transferFileNumbers=int(len(sourceFiles)*splitRate)\n",
    "        transferIndex=random.sample(range(0, len(sourceFiles)), transferFileNumbers)\n",
    "        for eachIndex in transferIndex:\n",
    "            shutil.move(source+str(sourceFiles[eachIndex]), dest+str(sourceFiles[eachIndex]))\n",
    "    else:\n",
    "        print(\"No file moved. Source empty!\")\n",
    "        \n",
    "def transferAllClassBetweenFolders(source, dest, splitRate):\n",
    "    for label in classLabels:\n",
    "        transferBetweenFolders(datasetFolderName+'/'+source+'/'+label+'/', \n",
    "                               datasetFolderName+'/'+dest+'/'+label+'/', \n",
    "                               splitRate)\n",
    "\n",
    "def my_metrics(y_true, y_pred):\n",
    "    accuracy=accuracy_score(y_true, y_pred)\n",
    "    precision=precision_score(y_true, y_pred,average='weighted')\n",
    "    f1Score=f1_score(y_true, y_pred, average='weighted') \n",
    "    print(\"Accuracy  : {}\".format(accuracy))\n",
    "    print(\"Precision : {}\".format(precision))\n",
    "    print(\"f1Score : {}\".format(f1Score))\n",
    "    cm=confusion_matrix(y_true, y_pred)\n",
    "    print(cm)\n",
    "    return accuracy, precision, f1Score\n"
   ]
  },
  {
   "cell_type": "code",
   "execution_count": 6,
   "metadata": {
    "collapsed": true,
    "id": "X_6tNUr8pw1b"
   },
   "outputs": [],
   "source": [
    "def prepareNameWithLabels(folderName):\n",
    "    sourceFiles=os.listdir(datasetFolderName+'/train/'+folderName)\n",
    "    for val in sourceFiles:\n",
    "        X.append(val)\n",
    "        for i in range(len(classLabels)):\n",
    "          if(folderName==classLabels[i]):\n",
    "              Y.append(i)"
   ]
  },
  {
   "cell_type": "code",
   "execution_count": 7,
   "metadata": {
    "collapsed": true,
    "id": "ABR_vPykp6Fx"
   },
   "outputs": [],
   "source": [
    "# Organize file names and class labels in X and Y variables\n",
    "for i in range(len(classLabels)):\n",
    "  prepareNameWithLabels(classLabels[i])"
   ]
  },
  {
   "cell_type": "code",
   "execution_count": 8,
   "metadata": {
    "collapsed": true,
    "id": "ct4KgEXpp8vz"
   },
   "outputs": [],
   "source": [
    "X=np.asarray(X)\n",
    "Y=np.asarray(Y)"
   ]
  },
  {
   "cell_type": "code",
   "execution_count": 9,
   "metadata": {
    "collapsed": true
   },
   "outputs": [],
   "source": [
    "PARAMS = {'img_dims': 160,\n",
    "          'epochs': 10,\n",
    "          'batch_size': 32,\n",
    "          'optimizer': 'adam',\n",
    "          'loss': 'categorical_crossentropy',\n",
    "          'metrics': 'accuracy',\n",
    "          }"
   ]
  },
  {
   "cell_type": "code",
   "execution_count": 8,
   "metadata": {
    "collapsed": true,
    "id": "zrlZd93LqAOj"
   },
   "outputs": [],
   "source": [
    "# Note that, this model structure is a very basic one. To achieve better performance, you should change the model structure and hyperparameters according to your needs and data.\n",
    "batch_size = 32\n",
    "inputs = Input(shape=(PARAMS['img_dims'], PARAMS['img_dims'], 3))\n",
    "\n",
    "# First conv block\n",
    "x = Conv2D(filters=16, kernel_size=(3, 3), activation='relu', padding='same')(inputs)\n",
    "x = Conv2D(filters=16, kernel_size=(3, 3), activation='relu', padding='same')(x)\n",
    "x = MaxPool2D(pool_size=(2, 2))(x)\n",
    "\n",
    "# Second conv block\n",
    "x = SeparableConv2D(filters=32, kernel_size=(3, 3), activation='relu', padding='same')(x)\n",
    "x = SeparableConv2D(filters=32, kernel_size=(3, 3), activation='relu', padding='same')(x)\n",
    "x = BatchNormalization()(x)\n",
    "x = MaxPool2D(pool_size=(2, 2))(x)\n",
    "\n",
    "# Third conv block\n",
    "x = SeparableConv2D(filters=64, kernel_size=(3, 3), activation='relu', padding='same')(x)\n",
    "x = SeparableConv2D(filters=64, kernel_size=(3, 3), activation='relu', padding='same')(x)\n",
    "x = BatchNormalization()(x)\n",
    "x = MaxPool2D(pool_size=(2, 2))(x)\n",
    "\n",
    "# Fourth conv block\n",
    "x = SeparableConv2D(filters=128, kernel_size=(3, 3), activation='relu', padding='same')(x)\n",
    "x = SeparableConv2D(filters=128, kernel_size=(3, 3), activation='relu', padding='same')(x)\n",
    "x = BatchNormalization()(x)\n",
    "x = MaxPool2D(pool_size=(2, 2))(x)\n",
    "x = Dropout(rate=0.2)(x)\n",
    "\n",
    "# Fifth conv block\n",
    "x = SeparableConv2D(filters=256, kernel_size=(3, 3), activation='relu', padding='same')(x)\n",
    "x = SeparableConv2D(filters=256, kernel_size=(3, 3), activation='relu', padding='same')(x)\n",
    "x = BatchNormalization()(x)\n",
    "x = MaxPool2D(pool_size=(2, 2))(x)\n",
    "x = Dropout(rate=0.2)(x)\n",
    "\n",
    "# FC layer\n",
    "x = Flatten()(x)\n",
    "x = Dense(units=512, activation='relu')(x)\n",
    "x = Dropout(rate=0.5)(x)\n",
    "x = Dense(units=128, activation='relu')(x)\n",
    "x = Dropout(rate=0.5)(x)\n",
    "x = Dense(units=64, activation='relu')(x)\n",
    "x = Dropout(rate=0.3)(x)\n",
    "\n",
    "# Output layer\n",
    "output = Dense(units=4, activation='softmax')(x)\n",
    "\n",
    "# Creating model and compiling\n",
    "model = Model(inputs=inputs, outputs=output)\n",
    "model.compile(optimizer=PARAMS['optimizer'], loss=PARAMS['loss'], metrics=[PARAMS['metrics']])\n",
    "\n",
    "# Callbacks\n",
    "lr_reduce = ReduceLROnPlateau(monitor='val_loss', factor=0.3, patience=2, verbose=2, mode='max')\n",
    "early_stop = EarlyStopping(monitor='val_loss', min_delta=0.1, patience=1, mode='min')"
   ]
  },
  {
   "cell_type": "markdown",
   "metadata": {
    "id": "0HV84D6Kqfoc"
   },
   "source": []
  },
  {
   "cell_type": "markdown",
   "metadata": {
    "id": "c9_h0Kviqfqp"
   },
   "source": [
    "# **Stratified K-Fold Cross validation**"
   ]
  },
  {
   "cell_type": "code",
   "execution_count": 13,
   "metadata": {
    "colab": {
     "base_uri": "https://localhost:8080/"
    },
    "id": "8Eey7KqgqUez",
    "outputId": "d19a2140-ce73-45cd-bb85-b96cf6598af6"
   },
   "outputs": [
    {
     "name": "stdout",
     "output_type": "stream",
     "text": [
      "Results for fold 1\n",
      "Found 66787 images belonging to 4 classes.\n",
      "Found 16697 images belonging to 4 classes.\n",
      "WARNING:tensorflow:sample_weight modes were coerced from\n",
      "  ...\n",
      "    to  \n",
      "  ['...']\n",
      "WARNING:tensorflow:sample_weight modes were coerced from\n",
      "  ...\n",
      "    to  \n",
      "  ['...']\n",
      "Train for 2088 steps, validate for 522 steps\n",
      "Epoch 1/10\n",
      "2088/2088 [==============================] - 2005s 960ms/step - loss: 0.4246 - accuracy: 0.8608 - val_loss: 0.4136 - val_accuracy: 0.8530\n",
      "Epoch 2/10\n",
      "2088/2088 [==============================] - 2192s 1s/step - loss: 0.3565 - accuracy: 0.8853 - val_loss: 0.3047 - val_accuracy: 0.9139\n",
      "Epoch 3/10\n",
      "2088/2088 [==============================] - 2138s 1s/step - loss: 0.3252 - accuracy: 0.8972 - val_loss: 0.4827 - val_accuracy: 0.8366\n",
      "Epoch 4/10\n",
      "2088/2088 [==============================] - 2077s 995ms/step - loss: 0.3101 - accuracy: 0.9019 - val_loss: 3.6582 - val_accuracy: 0.1792\n",
      "Epoch 5/10\n",
      "2088/2088 [==============================] - 1924s 922ms/step - loss: 0.2957 - accuracy: 0.9077 - val_loss: 0.3917 - val_accuracy: 0.8797\n",
      "Epoch 6/10\n",
      "2088/2088 [==============================] - 1921s 920ms/step - loss: 0.2858 - accuracy: 0.9116 - val_loss: 0.2330 - val_accuracy: 0.9260\n",
      "Epoch 7/10\n",
      "2088/2088 [==============================] - 2057s 985ms/step - loss: 0.2794 - accuracy: 0.9141 - val_loss: 0.2814 - val_accuracy: 0.9163\n",
      "Epoch 8/10\n",
      "2088/2088 [==============================] - 2127s 1s/step - loss: 0.2736 - accuracy: 0.9151 - val_loss: 0.3273 - val_accuracy: 0.9045\n",
      "Epoch 9/10\n",
      "2088/2088 [==============================] - 2174s 1s/step - loss: 0.2658 - accuracy: 0.9170 - val_loss: 0.2969 - val_accuracy: 0.8997\n",
      "Epoch 10/10\n",
      "2088/2088 [==============================] - 2200s 1s/step - loss: 0.2652 - accuracy: 0.9179 - val_loss: 0.2359 - val_accuracy: 0.9203\n",
      "Results for fold 2\n",
      "Found 66787 images belonging to 4 classes.\n",
      "Found 16697 images belonging to 4 classes.\n",
      "WARNING:tensorflow:sample_weight modes were coerced from\n",
      "  ...\n",
      "    to  \n",
      "  ['...']\n",
      "WARNING:tensorflow:sample_weight modes were coerced from\n",
      "  ...\n",
      "    to  \n",
      "  ['...']\n",
      "Train for 2088 steps, validate for 522 steps\n",
      "Epoch 1/10\n",
      "2088/2088 [==============================] - 2133s 1s/step - loss: 0.2565 - accuracy: 0.9207 - val_loss: 0.2322 - val_accuracy: 0.9202\n",
      "Epoch 2/10\n",
      "2088/2088 [==============================] - 2034s 974ms/step - loss: 0.2549 - accuracy: 0.9221 - val_loss: 0.2032 - val_accuracy: 0.9277\n",
      "Epoch 3/10\n",
      "2088/2088 [==============================] - 2016s 966ms/step - loss: 0.2465 - accuracy: 0.9219 - val_loss: 0.2460 - val_accuracy: 0.9247\n",
      "Epoch 4/10\n",
      "2088/2088 [==============================] - 2135s 1s/step - loss: 0.2475 - accuracy: 0.9238 - val_loss: 0.2045 - val_accuracy: 0.9295\n",
      "Epoch 5/10\n",
      "2088/2088 [==============================] - 2258s 1s/step - loss: 0.2487 - accuracy: 0.9241 - val_loss: 0.1976 - val_accuracy: 0.9339\n",
      "Epoch 6/10\n",
      "2088/2088 [==============================] - 2211s 1s/step - loss: 0.2452 - accuracy: 0.9233 - val_loss: 0.2200 - val_accuracy: 0.9277\n",
      "Epoch 7/10\n",
      "2088/2088 [==============================] - 29391s 14s/step - loss: 0.2356 - accuracy: 0.9275 - val_loss: 0.2158 - val_accuracy: 0.9327\n",
      "Epoch 8/10\n",
      "2088/2088 [==============================] - 5130s 2s/step - loss: 0.2379 - accuracy: 0.9264 - val_loss: 0.1942 - val_accuracy: 0.9353\n",
      "Epoch 9/10\n",
      "2088/2088 [==============================] - 1873s 897ms/step - loss: 0.2303 - accuracy: 0.9282 - val_loss: 0.1885 - val_accuracy: 0.9402\n",
      "Epoch 10/10\n",
      "2088/2088 [==============================] - 1874s 897ms/step - loss: 0.2328 - accuracy: 0.9286 - val_loss: 0.2244 - val_accuracy: 0.9252\n",
      "Results for fold 3\n",
      "Found 66787 images belonging to 4 classes.\n",
      "Found 16697 images belonging to 4 classes.\n",
      "WARNING:tensorflow:sample_weight modes were coerced from\n",
      "  ...\n",
      "    to  \n",
      "  ['...']\n",
      "WARNING:tensorflow:sample_weight modes were coerced from\n",
      "  ...\n",
      "    to  \n",
      "  ['...']\n",
      "Train for 2088 steps, validate for 522 steps\n",
      "Epoch 1/10\n",
      "2088/2088 [==============================] - 1978s 947ms/step - loss: 0.2353 - accuracy: 0.9281 - val_loss: 0.1716 - val_accuracy: 0.9447\n",
      "Epoch 2/10\n",
      "2088/2088 [==============================] - 2059s 986ms/step - loss: 0.2331 - accuracy: 0.9291 - val_loss: 0.1986 - val_accuracy: 0.9383\n",
      "Epoch 3/10\n",
      "2088/2088 [==============================] - 2142s 1s/step - loss: 0.2302 - accuracy: 0.9287 - val_loss: 0.2475 - val_accuracy: 0.9243\n",
      "Epoch 4/10\n",
      "2088/2088 [==============================] - 1965s 941ms/step - loss: 0.2285 - accuracy: 0.9306 - val_loss: 0.2105 - val_accuracy: 0.9327\n",
      "Epoch 5/10\n",
      "2088/2088 [==============================] - 1975s 946ms/step - loss: 0.2223 - accuracy: 0.9324 - val_loss: 0.2171 - val_accuracy: 0.9381\n",
      "Epoch 6/10\n",
      "2088/2088 [==============================] - 1957s 937ms/step - loss: 0.2243 - accuracy: 0.9303 - val_loss: 0.1779 - val_accuracy: 0.9437\n",
      "Epoch 7/10\n",
      "2088/2088 [==============================] - 1957s 937ms/step - loss: 0.2264 - accuracy: 0.9300 - val_loss: 0.1867 - val_accuracy: 0.9402\n",
      "Epoch 8/10\n",
      "2088/2088 [==============================] - 1912s 916ms/step - loss: 0.2175 - accuracy: 0.9336 - val_loss: 0.2385 - val_accuracy: 0.9251\n",
      "Epoch 9/10\n",
      "2088/2088 [==============================] - 1977s 947ms/step - loss: 0.2164 - accuracy: 0.9341 - val_loss: 0.1776 - val_accuracy: 0.9411\n",
      "Epoch 10/10\n",
      "2088/2088 [==============================] - 1987s 952ms/step - loss: 0.2200 - accuracy: 0.9319 - val_loss: 0.2045 - val_accuracy: 0.9391\n",
      "Results for fold 4\n",
      "Found 66787 images belonging to 4 classes.\n",
      "Found 16697 images belonging to 4 classes.\n",
      "WARNING:tensorflow:sample_weight modes were coerced from\n",
      "  ...\n",
      "    to  \n",
      "  ['...']\n",
      "WARNING:tensorflow:sample_weight modes were coerced from\n",
      "  ...\n",
      "    to  \n",
      "  ['...']\n",
      "Train for 2088 steps, validate for 522 steps\n",
      "Epoch 1/10\n",
      "2088/2088 [==============================] - 1954s 936ms/step - loss: 0.2209 - accuracy: 0.9320 - val_loss: 0.2531 - val_accuracy: 0.9105\n",
      "Epoch 2/10\n",
      "2088/2088 [==============================] - 1995s 955ms/step - loss: 0.2192 - accuracy: 0.9336 - val_loss: 0.1604 - val_accuracy: 0.9484\n",
      "Epoch 3/10\n",
      "2088/2088 [==============================] - 1978s 948ms/step - loss: 0.2132 - accuracy: 0.9343 - val_loss: 0.1506 - val_accuracy: 0.9509\n",
      "Epoch 4/10\n",
      "2088/2088 [==============================] - 2258s 1s/step - loss: 0.2159 - accuracy: 0.9352 - val_loss: 0.1591 - val_accuracy: 0.9459\n",
      "Epoch 5/10\n",
      "2088/2088 [==============================] - 2188s 1s/step - loss: 0.2170 - accuracy: 0.9347 - val_loss: 0.2091 - val_accuracy: 0.9286\n",
      "Epoch 6/10\n",
      "2088/2088 [==============================] - 2335s 1s/step - loss: 0.2124 - accuracy: 0.9351 - val_loss: 0.1466 - val_accuracy: 0.9510\n",
      "Epoch 7/10\n",
      "2088/2088 [==============================] - 2214s 1s/step - loss: 0.2135 - accuracy: 0.9352 - val_loss: 0.1821 - val_accuracy: 0.9384\n",
      "Epoch 8/10\n",
      "2088/2088 [==============================] - 2082s 997ms/step - loss: 0.2134 - accuracy: 0.9355 - val_loss: 0.1623 - val_accuracy: 0.9465\n",
      "Epoch 9/10\n",
      "2088/2088 [==============================] - 1951s 934ms/step - loss: 0.2092 - accuracy: 0.9363 - val_loss: 0.2334 - val_accuracy: 0.9365\n",
      "Epoch 10/10\n",
      "2088/2088 [==============================] - 1951s 934ms/step - loss: 0.2110 - accuracy: 0.9359 - val_loss: 0.1723 - val_accuracy: 0.9416\n",
      "Results for fold 5\n",
      "Found 66788 images belonging to 4 classes.\n",
      "Found 16696 images belonging to 4 classes.\n",
      "WARNING:tensorflow:sample_weight modes were coerced from\n",
      "  ...\n",
      "    to  \n",
      "  ['...']\n",
      "WARNING:tensorflow:sample_weight modes were coerced from\n",
      "  ...\n",
      "    to  \n",
      "  ['...']\n",
      "Train for 2088 steps, validate for 522 steps\n",
      "Epoch 1/10\n",
      "2088/2088 [==============================] - 1925s 922ms/step - loss: 0.2099 - accuracy: 0.9359 - val_loss: 0.1441 - val_accuracy: 0.9559\n",
      "Epoch 2/10\n",
      "2088/2088 [==============================] - 1933s 926ms/step - loss: 0.2119 - accuracy: 0.9349 - val_loss: 0.1802 - val_accuracy: 0.9465\n",
      "Epoch 3/10\n",
      "2088/2088 [==============================] - 2071s 992ms/step - loss: 0.2058 - accuracy: 0.9370 - val_loss: 0.1741 - val_accuracy: 0.9480\n",
      "Epoch 4/10\n",
      "2088/2088 [==============================] - 1851s 887ms/step - loss: 0.2139 - accuracy: 0.9348 - val_loss: 0.1528 - val_accuracy: 0.9514\n",
      "Epoch 5/10\n",
      "2088/2088 [==============================] - 1850s 886ms/step - loss: 0.2127 - accuracy: 0.9350 - val_loss: 0.1750 - val_accuracy: 0.9479\n"
     ]
    },
    {
     "name": "stdout",
     "output_type": "stream",
     "text": [
      "Epoch 6/10\n",
      "2088/2088 [==============================] - 1853s 887ms/step - loss: 0.2089 - accuracy: 0.9350 - val_loss: 0.1486 - val_accuracy: 0.9517\n",
      "Epoch 7/10\n",
      "2088/2088 [==============================] - 1871s 896ms/step - loss: 0.2070 - accuracy: 0.9366 - val_loss: 0.1929 - val_accuracy: 0.9332\n",
      "Epoch 8/10\n",
      "2088/2088 [==============================] - 1859s 890ms/step - loss: 0.2062 - accuracy: 0.9373 - val_loss: 0.1549 - val_accuracy: 0.9503\n",
      "Epoch 9/10\n",
      "2088/2088 [==============================] - 1858s 890ms/step - loss: 0.2035 - accuracy: 0.9378 - val_loss: 0.1757 - val_accuracy: 0.9439\n",
      "Epoch 10/10\n",
      "2088/2088 [==============================] - 1861s 891ms/step - loss: 0.2054 - accuracy: 0.9377 - val_loss: 0.1512 - val_accuracy: 0.9531\n"
     ]
    }
   ],
   "source": [
    "# ===============Stratified K-Fold======================\n",
    "skf = StratifiedKFold(n_splits=5, shuffle=True)\n",
    "skf.get_n_splits(X, Y)\n",
    "foldNum=0\n",
    "for train_index, val_index in skf.split(X, Y):\n",
    "    #First cut all images from validation to train (if any exists)\n",
    "    transferAllClassBetweenFolders('validation', 'train', 1.0)\n",
    "    foldNum+=1\n",
    "    print(\"Results for fold\",foldNum)\n",
    "    X_train, X_val = X[train_index], X[val_index]\n",
    "    Y_train, Y_val = Y[train_index], Y[val_index]\n",
    "    # Move validation images of this fold from train folder to the validation folder\n",
    "    for eachIndex in range(len(X_val)):\n",
    "        classLabel=''\n",
    "        for i in range(len(classLabels)):\n",
    "          if(Y_val[eachIndex]==i):\n",
    "              classLabel=classLabels[i]\n",
    "        #Then, copy the validation images to the validation folder\n",
    "        shutil.move(datasetFolderName+'/train/'+classLabel+'/'+X_val[eachIndex], \n",
    "                    datasetFolderName+'/validation/'+classLabel+'/'+X_val[eachIndex])\n",
    "        \n",
    "    train_datagen = ImageDataGenerator(\n",
    "                      rescale=1./255,\n",
    "                      zoom_range = 0.3,\n",
    "                      horizontal_flip = True)\n",
    "    validation_datagen = ImageDataGenerator(rescale=1./255)\n",
    "    test_datagen = ImageDataGenerator(rescale=1./255)\n",
    "        \n",
    "    #Start ImageClassification Model\n",
    "    train_generator = train_datagen.flow_from_directory(\n",
    "        train_path,\n",
    "        target_size=(160,160),\n",
    "        batch_size=32,\n",
    "        class_mode='categorical',\n",
    "        subset='training')\n",
    "\n",
    "    validation_generator = validation_datagen.flow_from_directory(\n",
    "        validation_path,\n",
    "        target_size=(160, 160),\n",
    "        batch_size=32,\n",
    "        class_mode='categorical',\n",
    "        shuffle=False)   \n",
    "   \n",
    "    # fit model\n",
    "    history=model.fit_generator(\n",
    "             train_generator, \n",
    "             epochs=PARAMS['epochs'],           \n",
    "             validation_data=validation_generator)"
   ]
  },
  {
   "cell_type": "markdown",
   "metadata": {
    "id": "AvIlpPcxqaf3"
   },
   "source": [
    "# Test phase"
   ]
  },
  {
   "cell_type": "code",
   "execution_count": 14,
   "metadata": {
    "collapsed": true
   },
   "outputs": [],
   "source": [
    "model.save('5fold.h5')"
   ]
  },
  {
   "cell_type": "code",
   "execution_count": 16,
   "metadata": {
    "collapsed": true
   },
   "outputs": [],
   "source": [
    "import matplotlib.pyplot as plt"
   ]
  },
  {
   "cell_type": "code",
   "execution_count": 17,
   "metadata": {},
   "outputs": [
    {
     "data": {
      "image/png": "[encoded data removed]",
      "text/plain": [
       "<Figure size 432x288 with 1 Axes>"
      ]
     },
     "metadata": {},
     "output_type": "display_data"
    },
    {
     "data": {
      "image/png": "[encoded data removed]",
      "text/plain": [
       "<Figure size 432x288 with 1 Axes>"
      ]
     },
     "metadata": {},
     "output_type": "display_data"
    }
   ],
   "source": [
    "# Plot training & validation accuracy values\n",
    "plt.plot(history.history['accuracy'])\n",
    "plt.plot(history.history['val_accuracy'])\n",
    "plt.title('Model accuracy')\n",
    "plt.ylabel('Accuracy')\n",
    "plt.xlabel('Epoch')\n",
    "plt.legend(['Train', 'Validation'], loc='upper left')\n",
    "plt.show()\n",
    "\n",
    "\n",
    "# Plot training & validation loss values\n",
    "plt.plot(history.history['loss'])\n",
    "plt.plot(history.history['val_loss'])\n",
    "plt.title('Model loss')\n",
    "plt.ylabel('Loss')\n",
    "plt.xlabel('Epoch')\n",
    "plt.legend(['Train', 'Validation'], loc='upper left')\n",
    "plt.show()"
   ]
  },
  {
   "cell_type": "code",
   "execution_count": 18,
   "metadata": {
    "colab": {
     "base_uri": "https://localhost:8080/"
    },
    "id": "doo1xZFqqW1H",
    "outputId": "c91d9f79-7ec3-4a9e-86a2-c0c18601ecf6",
    "scrolled": true
   },
   "outputs": [
    {
     "name": "stdout",
     "output_type": "stream",
     "text": [
      "==============TEST RESULTS============\n",
      "Found 1000 images belonging to 4 classes.\n",
      "50/50 [==============================] - 6s 124ms/step\n",
      "Accuracy  : 0.989\n",
      "Precision : 0.9894636015325671\n",
      "f1Score : 0.9890525705307036\n",
      "[[250   0   0   0]\n",
      " [  4 246   0   0]\n",
      " [  7   0 243   0]\n",
      " [  0   0   0 250]]\n"
     ]
    }
   ],
   "source": [
    "print(\"==============TEST RESULTS============\")\n",
    "test_generator = test_datagen.flow_from_directory(\n",
    "        test_path,\n",
    "        target_size=(160, 160),\n",
    "        batch_size=20,\n",
    "        class_mode=None,\n",
    "        shuffle=False) \n",
    "predictions = model.predict(test_generator, verbose=1)\n",
    "yPredictions = np.argmax(predictions, axis=1)\n",
    "true_classes = test_generator.classes\n",
    "\n",
    "testAcc,testPrec, testFScore = my_metrics(true_classes, yPredictions)"
   ]
  },
  {
   "cell_type": "code",
   "execution_count": 1,
   "metadata": {
    "collapsed": true
   },
   "outputs": [],
   "source": [
    "from tensorflow.keras.models import load_model\n",
    "model = load_model('5fold.h5')"
   ]
  },
  {
   "cell_type": "code",
   "execution_count": 2,
   "metadata": {
    "collapsed": true
   },
   "outputs": [],
   "source": [
    "from sklearn.metrics import classification_report"
   ]
  },
  {
   "cell_type": "code",
   "execution_count": 5,
   "metadata": {
    "collapsed": true
   },
   "outputs": [],
   "source": [
    "test_datagen = ImageDataGenerator(rescale=1./255)\n",
    "        "
   ]
  },
  {
   "cell_type": "code",
   "execution_count": 9,
   "metadata": {},
   "outputs": [
    {
     "name": "stdout",
     "output_type": "stream",
     "text": [
      "==============TEST RESULTS============\n",
      "Found 1000 images belonging to 4 classes.\n",
      "50/50 [==============================] - 6s 127ms/step\n",
      "Accuracy  : 0.989\n",
      "Precision : 0.9894636015325671\n",
      "f1Score : 0.9890525705307036\n",
      "[[250   0   0   0]\n",
      " [  4 246   0   0]\n",
      " [  7   0 243   0]\n",
      " [  0   0   0 250]]\n"
     ]
    }
   ],
   "source": [
    "print(\"==============TEST RESULTS============\")\n",
    "test_generator = test_datagen.flow_from_directory(\n",
    "        test_path,\n",
    "        target_size=(160, 160),\n",
    "        batch_size=20,\n",
    "        class_mode=None,\n",
    "        shuffle=False) \n",
    "predictions = model.predict(test_generator, verbose=1)\n",
    "yPredictions = np.argmax(predictions, axis=1)\n",
    "true_classes = test_generator.classes\n",
    "\n",
    "testAcc,testPrec, testFScore = my_metrics(true_classes, yPredictions)"
   ]
  },
  {
   "cell_type": "code",
   "execution_count": 10,
   "metadata": {},
   "outputs": [
    {
     "name": "stdout",
     "output_type": "stream",
     "text": [
      "              precision    recall  f1-score   support\n",
      "\n",
      "           0       1.00      0.96      0.98       261\n",
      "           1       0.98      1.00      0.99       246\n",
      "           2       0.97      1.00      0.99       243\n",
      "           3       1.00      1.00      1.00       250\n",
      "\n",
      "    accuracy                           0.99      1000\n",
      "   macro avg       0.99      0.99      0.99      1000\n",
      "weighted avg       0.99      0.99      0.99      1000\n",
      "\n"
     ]
    }
   ],
   "source": [
    "print(classification_report(yPredictions,true_classes))"
   ]
  },
  {
   "cell_type": "code",
   "execution_count": 11,
   "metadata": {},
   "outputs": [
    {
     "name": "stdout",
     "output_type": "stream",
     "text": [
      "[0 0 0 0 0 0 0 0 0 0 0 0 0 0 0 0 0 0 0 0 0 0 0 0 0 0 0 0 0 0 0 0 0 0 0 0 0\n",
      " 0 0 0 0 0 0 0 0 0 0 0 0 0 0 0 0 0 0 0 0 0 0 0 0 0 0 0 0 0 0 0 0 0 0 0 0 0\n",
      " 0 0 0 0 0 0 0 0 0 0 0 0 0 0 0 0 0 0 0 0 0 0 0 0 0 0 0 0 0 0 0 0 0 0 0 0 0\n",
      " 0 0 0 0 0 0 0 0 0 0 0 0 0 0 0 0 0 0 0 0 0 0 0 0 0 0 0 0 0 0 0 0 0 0 0 0 0\n",
      " 0 0 0 0 0 0 0 0 0 0 0 0 0 0 0 0 0 0 0 0 0 0 0 0 0 0 0 0 0 0 0 0 0 0 0 0 0\n",
      " 0 0 0 0 0 0 0 0 0 0 0 0 0 0 0 0 0 0 0 0 0 0 0 0 0 0 0 0 0 0 0 0 0 0 0 0 0\n",
      " 0 0 0 0 0 0 0 0 0 0 0 0 0 0 0 0 0 0 0 0 0 0 0 0 0 0 0 0 1 1 1 1 1 1 1 1 1\n",
      " 1 1 1 1 1 1 1 1 1 1 1 1 1 1 1 1 1 1 1 1 1 1 1 1 1 1 1 1 1 0 1 1 1 1 1 1 1\n",
      " 1 1 1 1 1 1 1 1 1 1 1 1 1 1 1 1 1 1 1 1 1 1 1 1 1 1 1 1 1 1 1 1 1 1 1 1 1\n",
      " 1 1 1 1 1 1 1 1 1 1 1 1 1 1 1 1 1 1 1 1 1 1 1 1 1 1 1 1 1 1 1 1 1 1 1 1 1\n",
      " 1 1 1 1 1 1 1 1 1 1 1 1 1 1 1 1 1 1 1 1 1 1 1 1 1 1 1 1 1 1 1 1 1 1 1 1 1\n",
      " 1 1 1 1 1 1 1 1 1 1 1 1 1 1 1 1 1 1 1 1 1 1 1 1 1 1 1 1 1 1 1 1 1 0 1 1 1\n",
      " 1 1 1 1 1 1 1 1 1 1 1 1 1 1 1 1 1 1 1 1 1 0 1 1 1 1 1 1 1 1 1 1 1 1 1 1 1\n",
      " 1 1 1 1 1 1 1 0 1 1 1 1 1 1 1 1 1 1 1 2 2 2 2 2 2 2 2 2 2 2 2 2 2 2 2 2 2\n",
      " 0 2 2 2 2 2 2 2 2 2 2 2 2 2 2 2 2 2 2 2 2 2 2 2 2 2 2 2 2 2 2 2 2 2 2 2 2\n",
      " 2 2 2 2 2 2 2 2 2 2 2 2 2 2 0 2 2 2 2 2 2 2 2 2 2 2 2 2 2 2 2 2 2 2 2 2 2\n",
      " 2 2 2 2 2 2 2 2 2 2 2 2 2 2 0 2 2 2 2 2 2 2 2 2 2 2 2 2 2 2 2 2 2 2 2 2 2\n",
      " 2 0 0 2 2 2 2 2 2 2 2 2 2 2 2 2 2 2 2 2 2 2 2 2 2 2 2 0 2 2 2 2 2 2 2 2 2\n",
      " 2 2 2 2 2 2 2 2 2 2 2 2 2 2 2 2 2 2 2 2 2 2 2 2 2 2 2 2 2 2 2 2 2 2 2 2 2\n",
      " 2 2 2 2 2 2 2 2 2 2 2 0 2 2 2 2 2 2 2 2 2 2 2 2 2 2 2 2 2 2 2 2 2 2 2 2 2\n",
      " 2 2 2 2 2 2 2 2 2 2 3 3 3 3 3 3 3 3 3 3 3 3 3 3 3 3 3 3 3 3 3 3 3 3 3 3 3\n",
      " 3 3 3 3 3 3 3 3 3 3 3 3 3 3 3 3 3 3 3 3 3 3 3 3 3 3 3 3 3 3 3 3 3 3 3 3 3\n",
      " 3 3 3 3 3 3 3 3 3 3 3 3 3 3 3 3 3 3 3 3 3 3 3 3 3 3 3 3 3 3 3 3 3 3 3 3 3\n",
      " 3 3 3 3 3 3 3 3 3 3 3 3 3 3 3 3 3 3 3 3 3 3 3 3 3 3 3 3 3 3 3 3 3 3 3 3 3\n",
      " 3 3 3 3 3 3 3 3 3 3 3 3 3 3 3 3 3 3 3 3 3 3 3 3 3 3 3 3 3 3 3 3 3 3 3 3 3\n",
      " 3 3 3 3 3 3 3 3 3 3 3 3 3 3 3 3 3 3 3 3 3 3 3 3 3 3 3 3 3 3 3 3 3 3 3 3 3\n",
      " 3 3 3 3 3 3 3 3 3 3 3 3 3 3 3 3 3 3 3 3 3 3 3 3 3 3 3 3 3 3 3 3 3 3 3 3 3\n",
      " 3]\n"
     ]
    }
   ],
   "source": [
    "print(yPredictions)"
   ]
  },
  {
   "cell_type": "code",
   "execution_count": 15,
   "metadata": {
    "collapsed": true
   },
   "outputs": [],
   "source": [
    "for i in yPredictions:\n",
    "    if yPredictions[i]!=true_classes[i]:\n",
    "        print(int(i))"
   ]
  },
  {
   "cell_type": "code",
   "execution_count": 30,
   "metadata": {
    "collapsed": true
   },
   "outputs": [],
   "source": [
    "import seaborn as sns\n",
    "from sklearn.metrics import confusion_matrix\n",
    "import matplotlib.pyplot as plt"
   ]
  },
  {
   "cell_type": "code",
   "execution_count": 38,
   "metadata": {
    "collapsed": true
   },
   "outputs": [],
   "source": [
    "x = np.array([[250 ,  0,   0,   0],\n",
    " [  4 ,246,   0,   0],\n",
    " [  7  , 0 ,243   ,0],\n",
    " [  0   ,0,   0 ,250]])\n",
    "fig = sns.heatmap(x, annot = True)\n",
    "heatmap = fig.get_figure()\n",
    "heatmap.savefig('heatmap.png', dpi = 400)"
   ]
  },
  {
   "cell_type": "code",
   "execution_count": 39,
   "metadata": {},
   "outputs": [
    {
     "data": {
      "image/png": "[encoded data removed]",
      "text/plain": [
       "<Figure size 432x288 with 2 Axes>"
      ]
     },
     "metadata": {},
     "output_type": "display_data"
    },
    {
     "data": {
      "image/png": "[encoded data removed]",
      "text/plain": [
       "<Figure size 432x288 with 2 Axes>"
      ]
     },
     "metadata": {},
     "output_type": "display_data"
    },
    {
     "data": {
      "image/png": "[encoded data removed]",
      "text/plain": [
       "<Figure size 432x288 with 2 Axes>"
      ]
     },
     "metadata": {},
     "output_type": "display_data"
    },
    {
     "data": {
      "image/png": "[encoded data removed]",
      "text/plain": [
       "<Figure size 432x288 with 3 Axes>"
      ]
     },
     "metadata": {},
     "output_type": "display_data"
    },
    {
     "data": {
      "image/png": "[encoded data removed]",
      "text/plain": [
       "<Figure size 432x288 with 2 Axes>"
      ]
     },
     "metadata": {},
     "output_type": "display_data"
    }
   ],
   "source": [
    "sns.set()\n",
    "fig = plt.figure()\n",
    "ax = fig.add_subplot(111)\n",
    "conf_mat = confusion_matrix(true_classes, yPredictions)\n",
    "sns.heatmap(conf_mat,annot=True,xticklabels=['CNV','DME','DRUSEN','NORMAL'],yticklabels=['CNV','DME','DRUSEN','NORMAL']) #画热力图\n",
    "ax.set_title('confusion matrix') #标题\n",
    "ax.set_xlabel('predict') #x轴\n",
    "ax.set_ylabel('true') #y轴\n",
    "plt.show()\n"
   ]
  },
  {
   "cell_type": "code",
   "execution_count": null,
   "metadata": {
    "collapsed": true
   },
   "outputs": [],
   "source": []
  }
 ],
 "metadata": {
  "accelerator": "GPU",
  "colab": {
   "collapsed_sections": [],
   "name": "stratified-K-fold-CV.ipynb",
   "provenance": []
  },
  "kernelspec": {
   "display_name": "Python 3",
   "language": "python",
   "name": "python3"
  },
  "language_info": {
   "codemirror_mode": {
    "name": "ipython",
    "version": 3
   },
   "file_extension": ".py",
   "mimetype": "text/x-python",
   "name": "python",
   "nbconvert_exporter": "python",
   "pygments_lexer": "ipython3",
   "version": "3.6.13"
  }
 },
 "nbformat": 4,
 "nbformat_minor": 1
}
